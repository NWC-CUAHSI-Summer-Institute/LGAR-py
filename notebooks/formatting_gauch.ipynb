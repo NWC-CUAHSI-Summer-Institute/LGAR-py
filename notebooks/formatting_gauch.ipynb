{
 "cells": [
  {
   "cell_type": "code",
   "execution_count": 1,
   "id": "63983c3a-b761-476b-b5ff-cd7ca4f600e8",
   "metadata": {},
   "outputs": [],
   "source": [
    "import matplotlib.pyplot as plt\n",
    "import os\n",
    "import pandas as pd\n",
    "from pathlib import Path"
   ]
  },
  {
   "cell_type": "code",
   "execution_count": 12,
   "id": "70d42ec9-a060-4fa5-8903-a15b7a670639",
   "metadata": {},
   "outputs": [
    {
     "data": {
      "text/html": [
       "<div>\n",
       "<style scoped>\n",
       "    .dataframe tbody tr th:only-of-type {\n",
       "        vertical-align: middle;\n",
       "    }\n",
       "\n",
       "    .dataframe tbody tr th {\n",
       "        vertical-align: top;\n",
       "    }\n",
       "\n",
       "    .dataframe thead th {\n",
       "        text-align: right;\n",
       "    }\n",
       "</style>\n",
       "<table border=\"1\" class=\"dataframe\">\n",
       "  <thead>\n",
       "    <tr style=\"text-align: right;\">\n",
       "      <th></th>\n",
       "      <th>Date</th>\n",
       "      <th>soil_moisture_layer_1</th>\n",
       "      <th>soil_moisture_layer_2</th>\n",
       "    </tr>\n",
       "  </thead>\n",
       "  <tbody>\n",
       "    <tr>\n",
       "      <th>0</th>\n",
       "      <td>1980-01-01</td>\n",
       "      <td>0.246935</td>\n",
       "      <td>0.206608</td>\n",
       "    </tr>\n",
       "    <tr>\n",
       "      <th>1</th>\n",
       "      <td>1980-01-02</td>\n",
       "      <td>0.245652</td>\n",
       "      <td>0.207005</td>\n",
       "    </tr>\n",
       "    <tr>\n",
       "      <th>2</th>\n",
       "      <td>1980-01-03</td>\n",
       "      <td>0.244747</td>\n",
       "      <td>0.207273</td>\n",
       "    </tr>\n",
       "    <tr>\n",
       "      <th>3</th>\n",
       "      <td>1980-01-04</td>\n",
       "      <td>0.244269</td>\n",
       "      <td>0.207398</td>\n",
       "    </tr>\n",
       "    <tr>\n",
       "      <th>4</th>\n",
       "      <td>1980-01-05</td>\n",
       "      <td>0.243955</td>\n",
       "      <td>0.207469</td>\n",
       "    </tr>\n",
       "  </tbody>\n",
       "</table>\n",
       "</div>"
      ],
      "text/plain": [
       "         Date  soil_moisture_layer_1  soil_moisture_layer_2\n",
       "0  1980-01-01               0.246935               0.206608\n",
       "1  1980-01-02               0.245652               0.207005\n",
       "2  1980-01-03               0.244747               0.207273\n",
       "3  1980-01-04               0.244269               0.207398\n",
       "4  1980-01-05               0.243955               0.207469"
      ]
     },
     "execution_count": 12,
     "metadata": {},
     "output_type": "execute_result"
    }
   ],
   "source": [
    "df = pd.read_csv(\"/Users/taddbindas/projects/soils_work/lgar-py/data/agu_2023/soil_moisture_06332515.csv\")\n",
    "df.head()"
   ]
  },
  {
   "cell_type": "code",
   "execution_count": 13,
   "id": "12d26090-062b-4dc9-bac2-35ad63dd51a4",
   "metadata": {},
   "outputs": [],
   "source": [
    "df['Date'] = pd.to_datetime(df['Date'])"
   ]
  },
  {
   "cell_type": "code",
   "execution_count": 14,
   "id": "63a615d6-e113-4539-8be1-d341a37d278a",
   "metadata": {},
   "outputs": [
    {
     "data": {
      "text/html": [
       "<div>\n",
       "<style scoped>\n",
       "    .dataframe tbody tr th:only-of-type {\n",
       "        vertical-align: middle;\n",
       "    }\n",
       "\n",
       "    .dataframe tbody tr th {\n",
       "        vertical-align: top;\n",
       "    }\n",
       "\n",
       "    .dataframe thead th {\n",
       "        text-align: right;\n",
       "    }\n",
       "</style>\n",
       "<table border=\"1\" class=\"dataframe\">\n",
       "  <thead>\n",
       "    <tr style=\"text-align: right;\">\n",
       "      <th></th>\n",
       "      <th>soil_moisture_layer_1</th>\n",
       "      <th>soil_moisture_layer_2</th>\n",
       "    </tr>\n",
       "    <tr>\n",
       "      <th>Date</th>\n",
       "      <th></th>\n",
       "      <th></th>\n",
       "    </tr>\n",
       "  </thead>\n",
       "  <tbody>\n",
       "    <tr>\n",
       "      <th>1980-01-01 00:00:00</th>\n",
       "      <td>0.246935</td>\n",
       "      <td>0.206608</td>\n",
       "    </tr>\n",
       "    <tr>\n",
       "      <th>1980-01-01 01:00:00</th>\n",
       "      <td>NaN</td>\n",
       "      <td>NaN</td>\n",
       "    </tr>\n",
       "    <tr>\n",
       "      <th>1980-01-01 02:00:00</th>\n",
       "      <td>NaN</td>\n",
       "      <td>NaN</td>\n",
       "    </tr>\n",
       "    <tr>\n",
       "      <th>1980-01-01 03:00:00</th>\n",
       "      <td>NaN</td>\n",
       "      <td>NaN</td>\n",
       "    </tr>\n",
       "    <tr>\n",
       "      <th>1980-01-01 04:00:00</th>\n",
       "      <td>NaN</td>\n",
       "      <td>NaN</td>\n",
       "    </tr>\n",
       "  </tbody>\n",
       "</table>\n",
       "</div>"
      ],
      "text/plain": [
       "                     soil_moisture_layer_1  soil_moisture_layer_2\n",
       "Date                                                             \n",
       "1980-01-01 00:00:00               0.246935               0.206608\n",
       "1980-01-01 01:00:00                    NaN                    NaN\n",
       "1980-01-01 02:00:00                    NaN                    NaN\n",
       "1980-01-01 03:00:00                    NaN                    NaN\n",
       "1980-01-01 04:00:00                    NaN                    NaN"
      ]
     },
     "execution_count": 14,
     "metadata": {},
     "output_type": "execute_result"
    }
   ],
   "source": [
    "df.set_index('Date', inplace=True)\n",
    "df_hourly = df.resample('H').asfreq()\n",
    "df_hourly.head()"
   ]
  },
  {
   "cell_type": "code",
   "execution_count": 15,
   "id": "0777146d-251e-4d9f-8258-7d6b2bbe04c2",
   "metadata": {},
   "outputs": [],
   "source": [
    "df_hourly = df_hourly.interpolate(method='linear')"
   ]
  },
  {
   "cell_type": "code",
   "execution_count": 16,
   "id": "c99e6229-94e3-4f62-a08a-acff9b2fea47",
   "metadata": {},
   "outputs": [
    {
     "data": {
      "text/html": [
       "<div>\n",
       "<style scoped>\n",
       "    .dataframe tbody tr th:only-of-type {\n",
       "        vertical-align: middle;\n",
       "    }\n",
       "\n",
       "    .dataframe tbody tr th {\n",
       "        vertical-align: top;\n",
       "    }\n",
       "\n",
       "    .dataframe thead th {\n",
       "        text-align: right;\n",
       "    }\n",
       "</style>\n",
       "<table border=\"1\" class=\"dataframe\">\n",
       "  <thead>\n",
       "    <tr style=\"text-align: right;\">\n",
       "      <th></th>\n",
       "      <th>soil_moisture_layer_1</th>\n",
       "      <th>soil_moisture_layer_2</th>\n",
       "    </tr>\n",
       "    <tr>\n",
       "      <th>Date</th>\n",
       "      <th></th>\n",
       "      <th></th>\n",
       "    </tr>\n",
       "  </thead>\n",
       "  <tbody>\n",
       "    <tr>\n",
       "      <th>1980-01-01 00:00:00</th>\n",
       "      <td>0.246935</td>\n",
       "      <td>0.206608</td>\n",
       "    </tr>\n",
       "    <tr>\n",
       "      <th>1980-01-01 01:00:00</th>\n",
       "      <td>0.246882</td>\n",
       "      <td>0.206624</td>\n",
       "    </tr>\n",
       "    <tr>\n",
       "      <th>1980-01-01 02:00:00</th>\n",
       "      <td>0.246828</td>\n",
       "      <td>0.206641</td>\n",
       "    </tr>\n",
       "    <tr>\n",
       "      <th>1980-01-01 03:00:00</th>\n",
       "      <td>0.246775</td>\n",
       "      <td>0.206657</td>\n",
       "    </tr>\n",
       "    <tr>\n",
       "      <th>1980-01-01 04:00:00</th>\n",
       "      <td>0.246721</td>\n",
       "      <td>0.206674</td>\n",
       "    </tr>\n",
       "  </tbody>\n",
       "</table>\n",
       "</div>"
      ],
      "text/plain": [
       "                     soil_moisture_layer_1  soil_moisture_layer_2\n",
       "Date                                                             \n",
       "1980-01-01 00:00:00               0.246935               0.206608\n",
       "1980-01-01 01:00:00               0.246882               0.206624\n",
       "1980-01-01 02:00:00               0.246828               0.206641\n",
       "1980-01-01 03:00:00               0.246775               0.206657\n",
       "1980-01-01 04:00:00               0.246721               0.206674"
      ]
     },
     "execution_count": 16,
     "metadata": {},
     "output_type": "execute_result"
    }
   ],
   "source": [
    "df_hourly.head()"
   ]
  },
  {
   "cell_type": "code",
   "execution_count": 17,
   "id": "c4488cec-11e8-4fff-a55d-b871666a2e63",
   "metadata": {},
   "outputs": [],
   "source": [
    "df_hourly.to_csv(\"/Users/taddbindas/projects/soils_work/lgar-py/data/agu_2023/06332515_hourly_soil_moisture.csv\")"
   ]
  }
 ],
 "metadata": {
  "kernelspec": {
   "display_name": "Python 3 (ipykernel)",
   "language": "python",
   "name": "python3"
  },
  "language_info": {
   "codemirror_mode": {
    "name": "ipython",
    "version": 3
   },
   "file_extension": ".py",
   "mimetype": "text/x-python",
   "name": "python",
   "nbconvert_exporter": "python",
   "pygments_lexer": "ipython3",
   "version": "3.10.11"
  }
 },
 "nbformat": 4,
 "nbformat_minor": 5
}
